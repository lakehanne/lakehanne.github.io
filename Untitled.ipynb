{
 "cells": [
  {
   "cell_type": "markdown",
   "metadata": {},
   "source": [
    "### Tax 2018"
   ]
  },
  {
   "cell_type": "code",
   "execution_count": 1,
   "metadata": {},
   "outputs": [
    {
     "data": {
      "text/plain": [
       "20.629999999999995"
      ]
     },
     "execution_count": 1,
     "metadata": {},
     "output_type": "execute_result"
    }
   ],
   "source": [
    "161.18-140.55"
   ]
  },
  {
   "cell_type": "code",
   "execution_count": 2,
   "metadata": {},
   "outputs": [
    {
     "data": {
      "text/plain": [
       "41.19"
      ]
     },
     "execution_count": 2,
     "metadata": {},
     "output_type": "execute_result"
    }
   ],
   "source": [
    "322.29-281.10"
   ]
  },
  {
   "cell_type": "code",
   "execution_count": 3,
   "metadata": {},
   "outputs": [
    {
     "data": {
      "text/plain": [
       "3.552713678800501e-15"
      ]
     },
     "execution_count": 3,
     "metadata": {},
     "output_type": "execute_result"
    }
   ],
   "source": [
    "109.16-123.32+14.16"
   ]
  },
  {
   "cell_type": "code",
   "execution_count": 4,
   "metadata": {},
   "outputs": [
    {
     "data": {
      "text/plain": [
       "8.881784197001252e-15"
      ]
     },
     "execution_count": 4,
     "metadata": {},
     "output_type": "execute_result"
    }
   ],
   "source": [
    "163.75-173.76+10.01"
   ]
  },
  {
   "cell_type": "code",
   "execution_count": 7,
   "metadata": {},
   "outputs": [
    {
     "data": {
      "text/plain": [
       "-6.849999999999994"
      ]
     },
     "execution_count": 7,
     "metadata": {},
     "output_type": "execute_result"
    }
   ],
   "source": [
    "112.15-119"
   ]
  },
  {
   "cell_type": "code",
   "execution_count": 8,
   "metadata": {},
   "outputs": [
    {
     "data": {
      "text/plain": [
       "-1.6500000000000057"
      ]
     },
     "execution_count": 8,
     "metadata": {},
     "output_type": "execute_result"
    }
   ],
   "source": [
    "168.4-170.05"
   ]
  },
  {
   "cell_type": "code",
   "execution_count": 9,
   "metadata": {},
   "outputs": [
    {
     "data": {
      "text/plain": [
       "-18.450000000000003"
      ]
     },
     "execution_count": 9,
     "metadata": {},
     "output_type": "execute_result"
    }
   ],
   "source": [
    "96.83-115.28"
   ]
  },
  {
   "cell_type": "code",
   "execution_count": 10,
   "metadata": {},
   "outputs": [
    {
     "data": {
      "text/plain": [
       "-12.730000000000004"
      ]
     },
     "execution_count": 10,
     "metadata": {},
     "output_type": "execute_result"
    }
   ],
   "source": [
    "96.83-109.56"
   ]
  },
  {
   "cell_type": "code",
   "execution_count": 21,
   "metadata": {},
   "outputs": [],
   "source": [
    "oned= 161.18+322.29+109.16+163.75+104+259.99+155.99+168.23+112.15+168.40+96.83+\\\n",
    "        96.83+48.42+65.29+65.28+32.64+65.29+97.93+72.72+36.36+72.72+109.08+72.72+399.94+82+122.99+82+409.98+82+41"
   ]
  },
  {
   "cell_type": "code",
   "execution_count": 25,
   "metadata": {},
   "outputs": [],
   "source": [
    "# google and allibaba\n",
    "oned += (460.03+1019.96+1024.98+1044.27+1039.26+1057.96+1187.98+1188.59+1146.50+1109.81+1109.81+1110.67+1119.10+1101.36+1084.10+1084.10)"
   ]
  },
  {
   "cell_type": "code",
   "execution_count": 28,
   "metadata": {},
   "outputs": [],
   "source": [
    "# alph class A\n",
    "oned += (1029.71+1191.94+1158.34+1119.99+1128.41+1106.11+1099.73+1099.73)"
   ]
  },
  {
   "cell_type": "code",
   "execution_count": 30,
   "metadata": {},
   "outputs": [],
   "source": [
    "#amazon\n",
    "oned += (1545.95+1388+25+1429.92+1438.6+1457.95+1632.95+3160.43+1584.16+1574.34+1853.49+1853.48*2+1853.49+1816.02*3+\\\n",
    "1749.97*2+1828.82*2+1795.94*2+1649.97*2+1640.91*2+1657)"
   ]
  },
  {
   "cell_type": "code",
   "execution_count": 32,
   "metadata": {},
   "outputs": [],
   "source": [
    "#apple\n",
    "oned += (667.72+665.14)"
   ]
  },
  {
   "cell_type": "code",
   "execution_count": 34,
   "metadata": {},
   "outputs": [],
   "source": [
    "#baidu\n",
    "oned += (2323.25+1020.98*2+616.78+403.11+201.55+380.31+570.47+190.16+760.62+368.15+184.07+368.15+203.99+611.98)"
   ]
  },
  {
   "cell_type": "code",
   "execution_count": 36,
   "metadata": {},
   "outputs": [],
   "source": [
    "#berkshire\n",
    "oned += (856.93)\n",
    "#bluebird\n",
    "oned += (724.48)\n",
    "#fb + gm \n",
    "oned += (643.26 + 170.70)"
   ]
  },
  {
   "cell_type": "code",
   "execution_count": 38,
   "metadata": {},
   "outputs": [],
   "source": [
    "#home depot\n",
    "oned += (368.5+536.04+980.17+877.14+877.13)\n",
    "#honeywell\n",
    "oned += (492.34+474.98+158.32)"
   ]
  },
  {
   "cell_type": "code",
   "execution_count": 42,
   "metadata": {},
   "outputs": [
    {
     "data": {
      "text/plain": [
       "98754.13999999997"
      ]
     },
     "execution_count": 42,
     "metadata": {},
     "output_type": "execute_result"
    }
   ],
   "source": [
    "#jp morgan\n",
    "oned += (229.2+110.58)\n",
    "#microsoft\n",
    "oned += (185.62+334.78+217.94+220.51+110.25+110.26)\n",
    "#netflix\n",
    "oned +(689.04)"
   ]
  },
  {
   "cell_type": "code",
   "execution_count": 43,
   "metadata": {},
   "outputs": [
    {
     "data": {
      "text/plain": [
       "69419.73000000003"
      ]
     },
     "execution_count": 43,
     "metadata": {},
     "output_type": "execute_result"
    }
   ],
   "source": [
    "# nvidia\n",
    "941.45+470.72+725.25+735.78+245.26+1246.56+1179.02+1136.77+454.71+645.34+430.22+652.48+1087.46+434.99+454.79+682.18+454.79+454.78+\\\n",
    "682.18+693.79+462.53+693.79+462.52+439.98+659.98+682.06+454.7+712.78+475.18+496.86*2+243.27*2+486.55+493.83+246.92+493.83+503.88+1284.97+\\\n",
    "513.99+257+2621.85+3922.89+523.05+523.05+261.53+266.53*2+266.53*2+0.01+1123.26+280.81*2+0.01+1684.89+280.81*2+0.01+1684.89+280.82+263.11+263.10*3+\\\n",
    "526.21+507.15+1014.3+253.58*5+240.45*5+961.79+240.45*2+480.9+246.33*5+985.3+246.32+492.65*2+246.32+220.35+220.34+881.38+220.35*3+220.34+196.88*6+\\\n",
    "787.5+393.75+196.88+2165.63+212.01*3+424.01+212.01*4+848.02+211.98+2332.06+876.46+438.23+1314.7+219.12*7+2410.27"
   ]
  },
  {
   "cell_type": "code",
   "execution_count": 55,
   "metadata": {},
   "outputs": [
    {
     "data": {
      "text/plain": [
       "171578.47999999998"
      ]
     },
     "execution_count": 55,
     "metadata": {},
     "output_type": "execute_result"
    }
   ],
   "source": [
    "oned=3877.16+460.03+16428.45+8934.01+47063.74+1332.86+9224.55+856.93+724.48+643.26+170.70+3638.98+\\\n",
    "1125.64+339.78+1179.36+698.04+67173.21+7012.74+280.79+146.94+266.83\n",
    "oned"
   ]
  },
  {
   "cell_type": "code",
   "execution_count": 56,
   "metadata": {},
   "outputs": [],
   "source": [
    "onee = 4038.21+492.63+16678.75+8832.22+48623.5+1334.42+9898.96+872.16+712.25+652.08+166.55+3704.99+1135.6+1200.42+331.14+753.22+69801.7+7072.44+285.5+157.94+272.32"
   ]
  },
  {
   "cell_type": "code",
   "execution_count": 57,
   "metadata": {},
   "outputs": [
    {
     "data": {
      "text/plain": [
       "177017.00000000003"
      ]
     },
     "execution_count": 57,
     "metadata": {},
     "output_type": "execute_result"
    }
   ],
   "source": [
    "onee"
   ]
  },
  {
   "cell_type": "code",
   "execution_count": 52,
   "metadata": {},
   "outputs": [
    {
     "data": {
      "text/plain": [
       "6338.31"
      ]
     },
     "execution_count": 52,
     "metadata": {},
     "output_type": "execute_result"
    }
   ],
   "source": [
    "oneg = 234.19+286.09+27.34+1563.7+5.51+506.92+52.78+3.17+13.11+3563.87+81.63\n",
    "oneg"
   ]
  },
  {
   "cell_type": "code",
   "execution_count": 60,
   "metadata": {},
   "outputs": [
    {
     "data": {
      "text/plain": [
       "17336.72"
      ]
     },
     "execution_count": 60,
     "metadata": {},
     "output_type": "execute_result"
    }
   ],
   "source": [
    "18791.72-1455"
   ]
  },
  {
   "cell_type": "code",
   "execution_count": 59,
   "metadata": {},
   "outputs": [
    {
     "data": {
      "text/plain": [
       "355833.57999999996"
      ]
     },
     "execution_count": 59,
     "metadata": {},
     "output_type": "execute_result"
    }
   ],
   "source": [
    "171578.48+177018.00+6338.31+898.79"
   ]
  },
  {
   "cell_type": "code",
   "execution_count": 61,
   "metadata": {},
   "outputs": [
    {
     "data": {
      "text/plain": [
       "3848"
      ]
     },
     "execution_count": 61,
     "metadata": {},
     "output_type": "execute_result"
    }
   ],
   "source": [
    "481*8"
   ]
  },
  {
   "cell_type": "code",
   "execution_count": null,
   "metadata": {},
   "outputs": [],
   "source": []
  }
 ],
 "metadata": {
  "kernelspec": {
   "display_name": "Python 3",
   "language": "python",
   "name": "python3"
  },
  "language_info": {
   "codemirror_mode": {
    "name": "ipython",
    "version": 3
   },
   "file_extension": ".py",
   "mimetype": "text/x-python",
   "name": "python",
   "nbconvert_exporter": "python",
   "pygments_lexer": "ipython3",
   "version": "3.7.0"
  }
 },
 "nbformat": 4,
 "nbformat_minor": 2
}
